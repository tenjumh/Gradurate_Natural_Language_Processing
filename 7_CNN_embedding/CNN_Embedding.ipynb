{
  "nbformat": 4,
  "nbformat_minor": 0,
  "metadata": {
    "colab": {
      "name": "CNN_Embedding.ipynb",
      "provenance": []
    },
    "kernelspec": {
      "name": "python3",
      "display_name": "Python 3"
    }
  },
  "cells": [
    {
      "cell_type": "code",
      "metadata": {
        "id": "0tSepMWInvHF",
        "colab_type": "code",
        "colab": {
          "base_uri": "https://localhost:8080/",
          "height": 72
        },
        "outputId": "24e4ab76-afbc-4cb9-bde8-c1ad1cbd0667"
      },
      "source": [
        "!pip install PyKomoran\n",
        "\n",
        "import json\n",
        "from PyKomoran import *\n",
        "import torch\n",
        "import torch.nn as nn"
      ],
      "execution_count": 52,
      "outputs": [
        {
          "output_type": "stream",
          "text": [
            "Requirement already satisfied: PyKomoran in /usr/local/lib/python3.6/dist-packages (0.1.5)\n",
            "Requirement already satisfied: py4j==0.10.8.1 in /usr/local/lib/python3.6/dist-packages (from PyKomoran) (0.10.8.1)\n"
          ],
          "name": "stdout"
        }
      ]
    },
    {
      "cell_type": "code",
      "metadata": {
        "id": "JQhMptYnoZFC",
        "colab_type": "code",
        "colab": {}
      },
      "source": [
        "komoran = Komoran(\"EXP\")\n",
        "\n",
        "with open('./SpeechAct_tr.json', 'r', encoding='utf-8') as read_file:\n",
        "  data_tr = json.load(read_file)"
      ],
      "execution_count": 0,
      "outputs": []
    },
    {
      "cell_type": "code",
      "metadata": {
        "id": "9NiTHecrotQ5",
        "colab_type": "code",
        "colab": {}
      },
      "source": [
        "words = []\n",
        "docs = []\n",
        "for key in data_tr.keys():\n",
        "  text = []\n",
        "  for message in data_tr[key]:\n",
        "    komoran_text = komoran.get_plain_text(message[1])\n",
        "    komoran_text = komoran_text.split(' ')\n",
        "    text.append(komoran_text)\n",
        "    for word in komoran_text:\n",
        "      words.append(word)\n",
        "  docs.append(text)\n",
        "words_dic = sorted(set(words))"
      ],
      "execution_count": 0,
      "outputs": []
    },
    {
      "cell_type": "code",
      "metadata": {
        "id": "9qdPseKSv3j3",
        "colab_type": "code",
        "colab": {}
      },
      "source": [
        "w2i = {}\n",
        "w2i['<PAD>'] = 0\n",
        "w2i['<UKN>'] = 1\n",
        "for idx, word in enumerate(words_dic):\n",
        "  w2i[word] = idx + 2"
      ],
      "execution_count": 0,
      "outputs": []
    },
    {
      "cell_type": "code",
      "metadata": {
        "id": "mdVyTPOkxXW3",
        "colab_type": "code",
        "colab": {
          "base_uri": "https://localhost:8080/",
          "height": 90
        },
        "outputId": "4248fcf8-b7a9-4132-f4a8-ebf330bc0429"
      },
      "source": [
        "save_file_name = '2019711752_윤민형_CNN_Embed'\n",
        "with open('./'+save_file_name+'.txt', 'w', encoding='utf-8', newline='') as writer_text:\n",
        "  for idx, i in enumerate(docs):\n",
        "    writer_text.writelines('(대화,{})'.format(idx+1) + '\\n')\n",
        "    for j in i:\n",
        "      idx_list = []\n",
        "      for k in j:\n",
        "        idx_list.append(w2i[k])\n",
        "      emb = nn.Embedding(num_embeddings = len(idx_list), embedding_dim = 128)\n",
        "      emb_tensor = torch.tensor(emb.weight)\n",
        "      emb_size = emb_tensor.size()\n",
        "      writer_text.writelines(str(emb_size) + '\\n')\n",
        "    writer_text.writelines('\\n')\n",
        "  print(\"[저장완료]\")"
      ],
      "execution_count": 56,
      "outputs": [
        {
          "output_type": "stream",
          "text": [
            "/usr/local/lib/python3.6/dist-packages/ipykernel_launcher.py:10: UserWarning: To copy construct from a tensor, it is recommended to use sourceTensor.clone().detach() or sourceTensor.clone().detach().requires_grad_(True), rather than torch.tensor(sourceTensor).\n",
            "  # Remove the CWD from sys.path while we load stuff.\n"
          ],
          "name": "stderr"
        },
        {
          "output_type": "stream",
          "text": [
            "[저장완료]\n"
          ],
          "name": "stdout"
        }
      ]
    },
    {
      "cell_type": "code",
      "metadata": {
        "id": "GsVCAFhUs6cv",
        "colab_type": "code",
        "colab": {}
      },
      "source": [
        ""
      ],
      "execution_count": 0,
      "outputs": []
    }
  ]
}