{
  "nbformat": 4,
  "nbformat_minor": 0,
  "metadata": {
    "colab": {
      "name": "NLP_label_for_CNN.ipynb",
      "provenance": [],
      "collapsed_sections": []
    },
    "kernelspec": {
      "name": "python3",
      "display_name": "Python 3"
    }
  },
  "cells": [
    {
      "cell_type": "code",
      "metadata": {
        "id": "tot218STvpfj",
        "colab_type": "code",
        "colab": {}
      },
      "source": [
        "import json"
      ],
      "execution_count": 0,
      "outputs": []
    },
    {
      "cell_type": "code",
      "metadata": {
        "id": "DQAVIeia2idd",
        "colab_type": "code",
        "colab": {}
      },
      "source": [
        "label2idx = {'opening' : 0, 'request' : 1, 'wh-question' : 2, 'yn-question' : 3,\n",
        "             'inform' : 4, 'affirm' : 5, 'ack' : 6, 'expressive' : 7}"
      ],
      "execution_count": 0,
      "outputs": []
    },
    {
      "cell_type": "code",
      "metadata": {
        "id": "VeKoeRGrkj_7",
        "colab_type": "code",
        "colab": {}
      },
      "source": [
        "def labellist(path):\n",
        "  with open(path, 'r', encoding='utf-8') as read_file:\n",
        "    data = json.load(read_file)\n",
        "\n",
        "  label_list = []\n",
        "  for idx, labels in enumerate(data.values()):\n",
        "    for label in labels:\n",
        "      label_list.append(label2idx[label[2]])\n",
        "  return len(label_list), label_list[99]"
      ],
      "execution_count": 0,
      "outputs": []
    },
    {
      "cell_type": "code",
      "metadata": {
        "id": "0LuZR0QChuJb",
        "colab_type": "code",
        "colab": {
          "base_uri": "https://localhost:8080/",
          "height": 87
        },
        "outputId": "90e02804-820c-40fa-e670-5c7d8675ce63"
      },
      "source": [
        "train_label_list = labellist('./SpeechAct_tr.json')\n",
        "test_label_list = labellist('./SpeechAct_te.json')\n",
        "print(train_label_list[0])\n",
        "print(train_label_list[1])\n",
        "print(test_label_list[0])\n",
        "print(test_label_list[1])"
      ],
      "execution_count": 60,
      "outputs": [
        {
          "output_type": "stream",
          "text": [
            "5825\n",
            "1\n",
            "866\n",
            "2\n"
          ],
          "name": "stdout"
        }
      ]
    },
    {
      "cell_type": "code",
      "metadata": {
        "id": "o_Pif__wfm6d",
        "colab_type": "code",
        "colab": {
          "base_uri": "https://localhost:8080/",
          "height": 34
        },
        "outputId": "72cb342d-62f8-40dc-ad60-0c2f3ab11724"
      },
      "source": [
        "save_file_name = '2019711752_윤민형_CNN_label'\n",
        "with open('./'+save_file_name+'.txt', 'w', encoding='utf-8', newline='') as writer_text:\n",
        "  writer_text.writelines('Train_label_list_길이 : {}'.format(train_label_list[0]) +'\\n')\n",
        "  writer_text.writelines('Train_Data_100번째_인덱스_label : {}'.format(train_label_list[1]) +'\\n')\n",
        "  writer_text.writelines('Test_label_list_길이 : {}'.format(test_label_list[0]) +'\\n')\n",
        "  writer_text.writelines('Test_Data_100번째_인덱스_label : {}'.format(test_label_list[1]))\n",
        "  print(\"[저장완료]\")"
      ],
      "execution_count": 61,
      "outputs": [
        {
          "output_type": "stream",
          "text": [
            "[저장완료]\n"
          ],
          "name": "stdout"
        }
      ]
    },
    {
      "cell_type": "code",
      "metadata": {
        "id": "4gSegwedoJmh",
        "colab_type": "code",
        "colab": {}
      },
      "source": [
        ""
      ],
      "execution_count": 0,
      "outputs": []
    }
  ]
}