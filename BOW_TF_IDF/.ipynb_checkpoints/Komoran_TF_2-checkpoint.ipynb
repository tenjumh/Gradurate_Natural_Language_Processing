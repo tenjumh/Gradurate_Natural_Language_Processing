{
 "cells": [
  {
   "cell_type": "code",
   "execution_count": 2,
   "metadata": {},
   "outputs": [],
   "source": [
    "import json\n",
    "from PyKomoran import *\n",
    "import csv\n",
    "import pandas as pd # 데이터프레임 사용을 위해\n",
    "from math import log # IDF 계산을 위해\n",
    "\n",
    "komoran = Komoran(\"EXP\")\n",
    "\n",
    "with open('C:/Users/fxk/PycharmProjects/tenjumh/Natural_Language_Processing/NLP_Gradurate/SpeechAct.json', 'r', encoding='utf-8') as read_file:\n",
    "    data = json.load(read_file)"
   ]
  },
  {
   "cell_type": "code",
   "execution_count": 21,
   "metadata": {},
   "outputs": [],
   "source": [
    "docs = []\n",
    "for key in data.keys():\n",
    "    text = []\n",
    "    for message in data[key]:\n",
    "        komoran_text = komoran.get_plain_text(message[1])\n",
    "        # print(komoran_text)\n",
    "        komoran_text = komoran_text.split(' ')\n",
    "        text.append(komoran_text)\n",
    "    docs.append(text)"
   ]
  },
  {
   "cell_type": "code",
   "execution_count": 44,
   "metadata": {},
   "outputs": [],
   "source": [
    "tag_list = ['NNP', 'NNG', 'VV']\n",
    "b = []\n",
    "for i in docs:\n",
    "    a = []\n",
    "    for j in i:\n",
    "        for k in j:\n",
    "            if '/' in k:\n",
    "                if k.split('/')[1] in tag_list:\n",
    "                    a.append(k)\n",
    "    b.append(a)"
   ]
  },
  {
   "cell_type": "code",
   "execution_count": 46,
   "metadata": {},
   "outputs": [],
   "source": [
    "result = []\n",
    "for i in range(len(b)):\n",
    "    vocab = []\n",
    "    for w in b[i]:\n",
    "        vocab.append(w)\n",
    "    vocab = list(set(vocab))\n",
    "    vocab.sort()\n",
    "    a = []\n",
    "    num = i + 1\n",
    "    result.append('(대화' + str(num) + ')')\n",
    "    for j in range(len(vocab)):\n",
    "        t = vocab[j]\n",
    "        cnt = b[i].count(t)\n",
    "        a.append(t + '\\t' + 'TF:' + str(cnt) + '\\n')\n",
    "    result.append(a)"
   ]
  },
  {
   "cell_type": "code",
   "execution_count": 50,
   "metadata": {},
   "outputs": [
    {
     "name": "stdout",
     "output_type": "stream",
     "text": [
      "[저장 완료]\n"
     ]
    }
   ],
   "source": [
    "save_file_name = '2019711752_윤민형_TF_2'\n",
    "with open('./'+save_file_name+'.txt', 'w', encoding='utf-8', newline='') as writer_text:\n",
    "    vstr = ''\n",
    "    for line in result:\n",
    "        for a in line:\n",
    "            vstr = vstr + str(a)\n",
    "        # vstr = vstr.rstrip('\\n') ==> rstrip\n",
    "        vstr = vstr+'\\n'\n",
    "    \n",
    "    writer_text.writelines(vstr)\n",
    "    writer_text.close()\n",
    "    print(\"[저장 완료]\")"
   ]
  },
  {
   "cell_type": "code",
   "execution_count": null,
   "metadata": {},
   "outputs": [],
   "source": []
  }
 ],
 "metadata": {
  "kernelspec": {
   "display_name": "Python 3",
   "language": "python",
   "name": "python3"
  },
  "language_info": {
   "codemirror_mode": {
    "name": "ipython",
    "version": 3
   },
   "file_extension": ".py",
   "mimetype": "text/x-python",
   "name": "python",
   "nbconvert_exporter": "python",
   "pygments_lexer": "ipython3",
   "version": "3.6.10"
  }
 },
 "nbformat": 4,
 "nbformat_minor": 2
}
