{
  "nbformat": 4,
  "nbformat_minor": 0,
  "metadata": {
    "colab": {
      "name": "2019711752_윤민형_CNN_w2ii2w.ipynb",
      "provenance": []
    },
    "kernelspec": {
      "name": "python3",
      "display_name": "Python 3"
    },
    "accelerator": "GPU"
  },
  "cells": [
    {
      "cell_type": "code",
      "metadata": {
        "id": "iOkDEIKuRgqF",
        "colab_type": "code",
        "outputId": "8fa78f1b-87ce-47d3-cac7-b90021088c4d",
        "colab": {
          "base_uri": "https://localhost:8080/",
          "height": 178
        }
      },
      "source": [
        "!pip install PyKomoran"
      ],
      "execution_count": 1,
      "outputs": [
        {
          "output_type": "stream",
          "text": [
            "Collecting PyKomoran\n",
            "\u001b[?25l  Downloading https://files.pythonhosted.org/packages/23/b0/ce6a46f311651ed64c39beb1cfe1c39a9906521139ace45430d08c489b62/PyKomoran-0.1.5-py3-none-any.whl (7.9MB)\n",
            "\u001b[K     |████████████████████████████████| 7.9MB 6.7MB/s \n",
            "\u001b[?25hCollecting py4j==0.10.8.1\n",
            "\u001b[?25l  Downloading https://files.pythonhosted.org/packages/04/de/2d314a921ef4c20b283e1de94e0780273678caac901564df06b948e4ba9b/py4j-0.10.8.1-py2.py3-none-any.whl (196kB)\n",
            "\u001b[K     |████████████████████████████████| 204kB 59.8MB/s \n",
            "\u001b[?25hInstalling collected packages: py4j, PyKomoran\n",
            "Successfully installed PyKomoran-0.1.5 py4j-0.10.8.1\n"
          ],
          "name": "stdout"
        }
      ]
    },
    {
      "cell_type": "code",
      "metadata": {
        "id": "7KXnYO3_SBHz",
        "colab_type": "code",
        "colab": {}
      },
      "source": [
        "import json\n",
        "from PyKomoran import *\n",
        "from sklearn.feature_extraction.text import TfidfVectorizer\n",
        "from sklearn.metrics import confusion_matrix, accuracy_score, precision_score, recall_score, f1_score, fbeta_score\n",
        "import torch\n",
        "import torch.nn.functional as F\n",
        "import numpy as np\n",
        "import random"
      ],
      "execution_count": 0,
      "outputs": []
    },
    {
      "cell_type": "code",
      "metadata": {
        "id": "qcWtPfDiSENH",
        "colab_type": "code",
        "colab": {}
      },
      "source": [
        "def set_seed():\n",
        "  random.seed(777)\n",
        "  np.random.seed(777)\n",
        "  torch.manual_seed(777)\n",
        "  if torch.cuda.is_available():\n",
        "    torch.cuda.manual_seed_all(777)\n",
        "\n",
        "set_seed()"
      ],
      "execution_count": 0,
      "outputs": []
    },
    {
      "cell_type": "code",
      "metadata": {
        "id": "e8pVZ13USGjx",
        "colab_type": "code",
        "colab": {}
      },
      "source": [
        "komoran = Komoran(\"EXP\")\n",
        "\n",
        "with open('./SpeechAct_tr.json', 'r', encoding='utf-8') as read_file:\n",
        "    data_tr = json.load(read_file)"
      ],
      "execution_count": 0,
      "outputs": []
    },
    {
      "cell_type": "code",
      "metadata": {
        "id": "obNN8GFDSibJ",
        "colab_type": "code",
        "colab": {}
      },
      "source": [
        "docs = []\n",
        "for key in data_tr.keys():\n",
        "    text = []\n",
        "    for message in data_tr[key]:\n",
        "        komoran_text = komoran.get_plain_text(message[1])\n",
        "        # print(komoran_text)\n",
        "        komoran_text = komoran_text.split(' ')\n",
        "        text.append(komoran_text)\n",
        "    docs.append(text)"
      ],
      "execution_count": 0,
      "outputs": []
    },
    {
      "cell_type": "code",
      "metadata": {
        "id": "o9g9sQNnZDgc",
        "colab_type": "code",
        "colab": {}
      },
      "source": [
        "words = []\n",
        "for i in docs:\n",
        "  for j in i:\n",
        "    for k in j:\n",
        "      words.append(k)"
      ],
      "execution_count": 0,
      "outputs": []
    },
    {
      "cell_type": "code",
      "metadata": {
        "id": "1fPKGnnSS_Ev",
        "colab_type": "code",
        "colab": {}
      },
      "source": [
        "words_dic = sorted(set(words))"
      ],
      "execution_count": 0,
      "outputs": []
    },
    {
      "cell_type": "code",
      "metadata": {
        "id": "sensguMzVVs4",
        "colab_type": "code",
        "colab": {}
      },
      "source": [
        "# words_dic = sorted(words_dic)"
      ],
      "execution_count": 0,
      "outputs": []
    },
    {
      "cell_type": "code",
      "metadata": {
        "id": "pb5J88RtaKxm",
        "colab_type": "code",
        "outputId": "b03d7142-72ad-401f-d15f-3a634393147e",
        "colab": {
          "base_uri": "https://localhost:8080/",
          "height": 34
        }
      },
      "source": [
        "len(words_dic)"
      ],
      "execution_count": 9,
      "outputs": [
        {
          "output_type": "execute_result",
          "data": {
            "text/plain": [
              "1275"
            ]
          },
          "metadata": {
            "tags": []
          },
          "execution_count": 9
        }
      ]
    },
    {
      "cell_type": "code",
      "metadata": {
        "id": "i9NJKmYEXn59",
        "colab_type": "code",
        "colab": {}
      },
      "source": [
        "w2i = {}\n",
        "i2w = {}\n",
        "w2i['<PAD>'] = 0\n",
        "w2i['<UKN>'] = 1\n",
        "for idx, word in enumerate(words_dic):\n",
        "  w2i[word] = idx + 2\n",
        "for word, idx in w2i.items():\n",
        "  i2w[idx] = word"
      ],
      "execution_count": 0,
      "outputs": []
    },
    {
      "cell_type": "code",
      "metadata": {
        "id": "fry-oMf9Yn_8",
        "colab_type": "code",
        "outputId": "98a505f8-393e-4382-ecb3-d3612c82aeb7",
        "colab": {
          "base_uri": "https://localhost:8080/",
          "height": 34
        }
      },
      "source": [
        "save_file_name = '2019711752_윤민형_CNN_w2ii2w'\n",
        "with open('./'+save_file_name+'.txt', 'w', encoding='utf-8', newline='') as writer_text:\n",
        "  list = ['word2idx', 'idx2word']\n",
        "  writer_text.writelines(list[0] + '\\n')\n",
        "  for word, idx in w2i.items():\n",
        "    writer_text.writelines(word + '\\t' + str(idx) + '\\n')\n",
        "  writer_text.writelines('\\n' + list[1] + '\\n')\n",
        "  for idx, word in i2w.items(): \n",
        "    writer_text.writelines(str(idx) + '\\t' + word + '\\n') \n",
        "  #writer_text.close()\n",
        "  print(\"[저장 완료]\")"
      ],
      "execution_count": 11,
      "outputs": [
        {
          "output_type": "stream",
          "text": [
            "[저장 완료]\n"
          ],
          "name": "stdout"
        }
      ]
    },
    {
      "cell_type": "code",
      "metadata": {
        "id": "L-VYMduFa590",
        "colab_type": "code",
        "colab": {}
      },
      "source": [
        ""
      ],
      "execution_count": 0,
      "outputs": []
    }
  ]
}