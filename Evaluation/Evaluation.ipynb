{
 "cells": [
  {
   "cell_type": "code",
   "execution_count": 11,
   "metadata": {},
   "outputs": [],
   "source": [
    "import json\n",
    "from sklearn.metrics import confusion_matrix, accuracy_score, precision_score, recall_score, f1_score, fbeta_score"
   ]
  },
  {
   "cell_type": "code",
   "execution_count": 12,
   "metadata": {},
   "outputs": [],
   "source": [
    "with open('Evaluation.json', 'r', encoding='utf-8') as file:\n",
    "    data = json.load(file)\n",
    "    true = data['label']\n",
    "    pred =  data['predict']"
   ]
  },
  {
   "cell_type": "code",
   "execution_count": 13,
   "metadata": {},
   "outputs": [],
   "source": [
    "conf_mat = confusion_matrix(true, pred)"
   ]
  },
  {
   "cell_type": "code",
   "execution_count": 14,
   "metadata": {},
   "outputs": [],
   "source": [
    "def eval(true, pred):\n",
    "    ave = ['macro', 'micro']\n",
    "    precision = []\n",
    "    recall = []\n",
    "    fbeta = []\n",
    "    f1 = []\n",
    "    acc = accuracy_score(true, pred)\n",
    "    for i in ave:\n",
    "        precision.append(precision_score(true, pred, average=i))\n",
    "        recall.append(recall_score(true, pred, average=i))\n",
    "        f1.append(f1_score(true, pred, average=i))\n",
    "    return acc, precision, recall, f1"
   ]
  },
  {
   "cell_type": "code",
   "execution_count": 15,
   "metadata": {},
   "outputs": [
    {
     "name": "stdout",
     "output_type": "stream",
     "text": [
      "[저장 완료]\n"
     ]
    }
   ],
   "source": [
    "evaluation = eval(true, pred)\n",
    "save_file_name = '2019711752_윤민형_EVAL'\n",
    "with open('./'+save_file_name+'.txt', 'w', encoding='utf-8', newline='') as writer_text:\n",
    "    writer_text.writelines('Confusion martix' + '\\n')\n",
    "    for i in conf_mat:\n",
    "        for j in i:\n",
    "            writer_text.writelines(str(j) + '\\t')\n",
    "        writer_text.writelines('\\n')\n",
    "    writer_text.writelines('\\n')\n",
    "    writer_text.writelines('Accuracy : ' + str(evaluation[0]*100) +'%' + '\\n')\n",
    "    writer_text.writelines('\\n')\n",
    "    list = ['precision', 'recall', 'f1-score']\n",
    "    for idx, k in enumerate(range(len(evaluation[1:]))):\n",
    "        writer_text.writelines('Macro average ' + str(list[idx]) +' : ' \n",
    "                               + str(evaluation[k+1][0]*100) +'%' + '\\n')\n",
    "        writer_text.writelines('Micro averate ' + str(list[idx]) +' : ' \n",
    "                               + str(evaluation[k+1][1]*100) +'%'+ '\\n\\n')\n",
    "    #writer_text.close()\n",
    "    print(\"[저장 완료]\")"
   ]
  },
  {
   "cell_type": "code",
   "execution_count": null,
   "metadata": {},
   "outputs": [],
   "source": []
  }
 ],
 "metadata": {
  "kernelspec": {
   "display_name": "Python 3",
   "language": "python",
   "name": "python3"
  },
  "language_info": {
   "codemirror_mode": {
    "name": "ipython",
    "version": 3
   },
   "file_extension": ".py",
   "mimetype": "text/x-python",
   "name": "python",
   "nbconvert_exporter": "python",
   "pygments_lexer": "ipython3",
   "version": "3.6.10"
  }
 },
 "nbformat": 4,
 "nbformat_minor": 2
}
