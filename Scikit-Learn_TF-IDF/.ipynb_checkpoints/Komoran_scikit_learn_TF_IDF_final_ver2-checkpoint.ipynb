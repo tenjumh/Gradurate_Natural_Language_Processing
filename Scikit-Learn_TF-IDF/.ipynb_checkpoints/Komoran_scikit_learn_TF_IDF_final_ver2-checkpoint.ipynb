{
 "cells": [
  {
   "cell_type": "code",
   "execution_count": 2,
   "metadata": {},
   "outputs": [],
   "source": [
    "import json\n",
    "from PyKomoran import *\n",
    "from sklearn.feature_extraction.text import TfidfVectorizer"
   ]
  },
  {
   "cell_type": "code",
   "execution_count": 3,
   "metadata": {},
   "outputs": [],
   "source": [
    "komoran = Komoran(\"EXP\")\n",
    "\n",
    "with open('C:/Users/fxk/PycharmProjects/tenjumh/Natural_Language_Processing/NLP_Gradurate/SpeechAct.json', 'r', encoding='utf-8') as read_file:\n",
    "    data = json.load(read_file)"
   ]
  },
  {
   "cell_type": "code",
   "execution_count": 6,
   "metadata": {},
   "outputs": [],
   "source": [
    "tfidf_word = []\n",
    "for idx, key in enumerate(data):\n",
    "    for message in range(len(data[key])):\n",
    "        komoran_text = ' '.join(komoran.get_morphes_by_tags(data[key][message][1],\n",
    "                                                            tag_list=['NNP', 'NNG', 'VV']))\n",
    "        tfidf_word.append(komoran_text)"
   ]
  },
  {
   "cell_type": "code",
   "execution_count": 16,
   "metadata": {},
   "outputs": [
    {
     "name": "stderr",
     "output_type": "stream",
     "text": [
      "IOPub data rate exceeded.\n",
      "The notebook server will temporarily stop sending output\n",
      "to the client in order to avoid crashing it.\n",
      "To change this limit, set the config variable\n",
      "`--NotebookApp.iopub_data_rate_limit`.\n",
      "\n",
      "Current values:\n",
      "NotebookApp.iopub_data_rate_limit=1000000.0 (bytes/sec)\n",
      "NotebookApp.rate_limit_window=3.0 (secs)\n",
      "\n"
     ]
    }
   ],
   "source": [
    "tfidf = []\n",
    "tfidfvect = TfidfVectorizer(token_pattern='(?u)\\\\b\\\\w+\\\\b', stop_words=None)\n",
    "tfidfvect.fit_transform(tfidf_word)\n",
    "tfidflist = tfidfvect.transform(tfidf_word).toarray().tolist()\n",
    "tfidf.append(tfidflist)\n",
    "print(tfidf)"
   ]
  },
  {
   "cell_type": "code",
   "execution_count": 9,
   "metadata": {},
   "outputs": [
    {
     "name": "stdout",
     "output_type": "stream",
     "text": [
      "299\n"
     ]
    }
   ],
   "source": [
    "len(tfidf_word)\n",
    "print(idx)"
   ]
  },
  {
   "cell_type": "code",
   "execution_count": null,
   "metadata": {},
   "outputs": [],
   "source": [
    "tfidf = []\n",
    "for idx, key in enumerate(data):\n",
    "    for message in range(len(data[key])):\n",
    "        komoran_text = ' '.join(komoran.get_morphes_by_tags(data[key][message][1],\n",
    "                                                   tag_list=['NNP', 'NNG', 'VV']))\n",
    "        text.append(komoran_text)\n",
    "    if len(text) == 0:\n",
    "        continue\n",
    "    else:\n",
    "        num = idx + 1\n",
    "        tfidfvect = TfidfVectorizer(token_pattern='(?u)\\\\b\\\\w+\\\\b', stop_words=None)\n",
    "        tfidfvect.fit_transform(text)\n",
    "        tfidflist = tfidfvect.transform(text).toarray().tolist()\n",
    "        voca = tfidfvect.vocabulary_\n",
    "        voca = sorted(voca)\n",
    "        tfidf.append('(대화{})'.format(num) + '\\n')\n",
    "        tfidf.append(tfidflist)"
   ]
  },
  {
   "cell_type": "code",
   "execution_count": null,
   "metadata": {},
   "outputs": [],
   "source": [
    "tfidf"
   ]
  },
  {
   "cell_type": "code",
   "execution_count": 40,
   "metadata": {},
   "outputs": [
    {
     "name": "stdout",
     "output_type": "stream",
     "text": [
      "[저장 완료]\n"
     ]
    }
   ],
   "source": [
    "save_file_name = '2019711752_윤민형_TFIDF'\n",
    "with open('./'+save_file_name+'.txt', 'w', encoding='utf-8', newline='') as writer_text:\n",
    "    for idx, i in enumerate(tfidf):\n",
    "        if idx % 2 == 0:\n",
    "            writer_text.writelines(i)\n",
    "        else:\n",
    "            for j in i:\n",
    "                for k in j:\n",
    "                    k = round(k, 4)\n",
    "                    writer_text.writelines(str(k) + '\\t')\n",
    "                writer_text.writelines('\\n')\n",
    "            writer_text.writelines('\\n')\n",
    "    print(\"[저장 완료]\")"
   ]
  },
  {
   "cell_type": "code",
   "execution_count": null,
   "metadata": {},
   "outputs": [],
   "source": []
  }
 ],
 "metadata": {
  "kernelspec": {
   "display_name": "Python 3",
   "language": "python",
   "name": "python3"
  },
  "language_info": {
   "codemirror_mode": {
    "name": "ipython",
    "version": 3
   },
   "file_extension": ".py",
   "mimetype": "text/x-python",
   "name": "python",
   "nbconvert_exporter": "python",
   "pygments_lexer": "ipython3",
   "version": "3.6.10"
  }
 },
 "nbformat": 4,
 "nbformat_minor": 2
}
